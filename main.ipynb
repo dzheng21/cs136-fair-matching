{
 "cells": [
  {
   "cell_type": "code",
   "execution_count": 51,
   "metadata": {},
   "outputs": [],
   "source": [
    "from sim import *\n",
    "\n",
    "import numpy as np"
   ]
  },
  {
   "cell_type": "code",
   "execution_count": 52,
   "metadata": {},
   "outputs": [
    {
     "name": "stdout",
     "output_type": "stream",
     "text": [
      "(defaultdict(<function deferred_acceptance.<locals>.<lambda> at 0x00000172FF48BE20>, {2: 4, 36: 4, 37: 4, 28: 4, 29: 4, 27: 0, 5: 0, 30: 0, 43: 0, 11: 0, 7: 3, 31: 3, 19: 3, 20: 3, 3: 3, 45: 9, 21: 9, 34: 9, 48: 7, 4: 8, 40: 8, 9: 6, 39: 9, 0: 8, 12: 2, 16: 8, 35: 7, 49: 1, 1: 2, 17: 6, 23: 9, 10: 7, 22: 8, 47: 5, 32: 2, 42: 5, 6: 7, 24: 5, 44: 6, 38: 1, 14: 2, 26: 2, 33: 1, 15: 7, 18: 5, 46: 5, 13: 6, 8: 1, 25: 1, 41: 6}), defaultdict(<function deferred_acceptance.<locals>.<lambda> at 0x00000172FF48BB00>, {4: [2, 36, 37, 28, 29], 0: [27, 5, 30, 43, 11], 3: [7, 31, 19, 20, 3], 9: [45, 21, 34, 39, 23], 8: [16, 22, 0, 40, 4], 2: [12, 1, 14, 32, 26], 7: [48, 35, 6, 15, 10], 5: [24, 47, 18, 46, 42], 6: [13, 41, 44, 17, 9], 1: [33, 25, 38, 49, 8]}))\n"
     ]
    }
   ],
   "source": [
    "results = simulate()\n",
    "print(results)"
   ]
  }
 ],
 "metadata": {
  "kernelspec": {
   "display_name": "home",
   "language": "python",
   "name": "python3"
  },
  "language_info": {
   "codemirror_mode": {
    "name": "ipython",
    "version": 3
   },
   "file_extension": ".py",
   "mimetype": "text/x-python",
   "name": "python",
   "nbconvert_exporter": "python",
   "pygments_lexer": "ipython3",
   "version": "3.11.6"
  }
 },
 "nbformat": 4,
 "nbformat_minor": 2
}
