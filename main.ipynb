{
 "cells": [
  {
   "cell_type": "code",
   "execution_count": 1,
   "metadata": {},
   "outputs": [],
   "source": [
    "from sim import *\n",
    "\n",
    "import numpy as np"
   ]
  },
  {
   "cell_type": "code",
   "execution_count": 37,
   "metadata": {},
   "outputs": [
    {
     "name": "stdout",
     "output_type": "stream",
     "text": [
      "(defaultdict(<function deferred_acceptance.<locals>.<lambda> at 0x000001785E680860>, {3: 0, 6: 0, 0: 0, 8: 1, 4: 1, 1: 1, 7: 1}), defaultdict(<function deferred_acceptance.<locals>.<lambda> at 0x000001785E6834C0>, {0: [3, 6, 0], 1: [4, 1, 7]}))\n"
     ]
    }
   ],
   "source": [
    "results = simulate(numColleges=2, \n",
    "    numStudents=10, \n",
    "    spots=3, is_modified_match=True)\n",
    "print(results)"
   ]
  }
 ],
 "metadata": {
  "kernelspec": {
   "display_name": "home",
   "language": "python",
   "name": "python3"
  },
  "language_info": {
   "codemirror_mode": {
    "name": "ipython",
    "version": 3
   },
   "file_extension": ".py",
   "mimetype": "text/x-python",
   "name": "python",
   "nbconvert_exporter": "python",
   "pygments_lexer": "ipython3",
   "version": "3.11.6"
  }
 },
 "nbformat": 4,
 "nbformat_minor": 2
}
